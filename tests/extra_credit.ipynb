{
 "cells": [
  {
   "cell_type": "code",
   "execution_count": 7,
   "metadata": {},
   "outputs": [],
   "source": [
    "from __future__ import division\n",
    "import matplotlib.pyplot as plt\n",
    "from matplotlib.path import Path\n",
    "from matplotlib.lines import Line2D\n",
    "from importlib import reload\n",
    "\n",
    "import KDTree2\n",
    "from utilities import *\n",
    "from obstacles import Range, Point, Line, Obstacle, Obstacles\n",
    "\n",
    "import numpy as np\n",
    "import math, random\n",
    "import matplotlib.patches as patches\n",
    "from shapely.geometry.polygon import LinearRing, Polygon\n",
    "from shapely.ops import cascaded_union\n",
    "from descartes import PolygonPatch"
   ]
  },
  {
   "cell_type": "code",
   "execution_count": 2,
   "metadata": {},
   "outputs": [],
   "source": [
    "def gen_valid_rand(valid_function):\n",
    "    \"\"\" Generates a valid q_rand \\in Q_free given a validity function \"\"\"\n",
    "    tmp = np.random.random(2) * span*1.1 + minp - span*0.05\n",
    "    while not valid_function(*tmp):\n",
    "        tmp = np.random.random(2) * span*1.1 + minp - span*0.05\n",
    "    return tmp"
   ]
  },
  {
   "cell_type": "code",
   "execution_count": 3,
   "metadata": {},
   "outputs": [],
   "source": [
    "init_t = math.atan(2.5)\n",
    "r = math.hypot(10, 25)\n",
    "thetas = [init_t, math.pi-init_t, math.pi+init_t, 2*math.pi-init_t]\n",
    "def gen_rect_pts(x, y, alpha):\n",
    "    return [(x+r*math.cos(theta+alpha), y+r*math.sin(theta+alpha))\n",
    "               for theta in thetas]"
   ]
  },
  {
   "cell_type": "code",
   "execution_count": 4,
   "metadata": {},
   "outputs": [],
   "source": [
    "obstacle_path, goal_path = \"world_obstacles.txt\", \"start_goal.txt\"\n",
    "\n",
    "step_size   = 10\n",
    "path        = get_obstacle_course(obstacle_path)\n",
    "start, goal = get_start_and_goal(goal_path)\n",
    "obstacles   = Obstacles(path.to_polygons())\n",
    "end         = np.array(goal)\n",
    "\n",
    "minp, maxp  = path.vertices.min(0), path.vertices.max(0)\n",
    "span        = maxp - minp\n"
   ]
  },
  {
   "cell_type": "code",
   "execution_count": 14,
   "metadata": {},
   "outputs": [
    {
     "data": {
      "image/svg+xml": [
       "<svg xmlns=\"http://www.w3.org/2000/svg\" xmlns:xlink=\"http://www.w3.org/1999/xlink\" width=\"300\" height=\"300\" viewBox=\"-23.92 -23.92 645.8399999999999 645.8399999999999\" preserveAspectRatio=\"xMinYMin meet\"><g transform=\"matrix(1,0,0,-1,0,598.0)\"><g><path fill-rule=\"evenodd\" fill=\"#66cc99\" stroke=\"#555555\" stroke-width=\"4.305599999999999\" opacity=\"0.6\" d=\"M 0.0,25.0 L 0.0,64.0 L 35.0,64.0 L 35.0,25.0 L 0.0,25.0 z\" /><path fill-rule=\"evenodd\" fill=\"#66cc99\" stroke=\"#555555\" stroke-width=\"4.305599999999999\" opacity=\"0.6\" d=\"M 360.0,0.0 L 360.0,44.0 L 516.0,44.0 L 516.0,0.0 L 360.0,0.0 z\" /><path fill-rule=\"evenodd\" fill=\"#66cc99\" stroke=\"#555555\" stroke-width=\"4.305599999999999\" opacity=\"0.6\" d=\"M 110.0,0.0 L 110.0,54.0 L 185.0,54.0 L 185.0,0.0 L 110.0,0.0 z\" /><path fill-rule=\"evenodd\" fill=\"#66cc99\" stroke=\"#555555\" stroke-width=\"4.305599999999999\" opacity=\"0.6\" d=\"M 490.0,73.0 L 490.0,120.0 L 598.0,120.0 L 598.0,73.0 L 490.0,73.0 z\" /><path fill-rule=\"evenodd\" fill=\"#66cc99\" stroke=\"#555555\" stroke-width=\"4.305599999999999\" opacity=\"0.6\" d=\"M 66.0,388.0 L 66.0,516.0 L 0.0,516.0 L 0.0,561.0 L 65.0,561.0 L 65.0,543.0 L 102.0,543.0 L 102.0,487.0 L 257.0,487.0 L 257.0,452.0 L 102.0,452.0 L 102.0,388.0 L 66.0,388.0 z\" /><path fill-rule=\"evenodd\" fill=\"#66cc99\" stroke=\"#555555\" stroke-width=\"4.305599999999999\" opacity=\"0.6\" d=\"M 388.0,452.0 L 388.0,497.0 L 415.0,497.0 L 415.0,597.0 L 435.0,597.0 L 435.0,497.0 L 462.0,497.0 L 462.0,553.0 L 498.0,553.0 L 498.0,452.0 L 388.0,452.0 z\" /><path fill-rule=\"evenodd\" fill=\"#66cc99\" stroke=\"#555555\" stroke-width=\"4.305599999999999\" opacity=\"0.6\" d=\"M 223.0,534.0 L 223.0,598.0 L 268.0,598.0 L 268.0,534.0 L 223.0,534.0 z\" /><path fill-rule=\"evenodd\" fill=\"#66cc99\" stroke=\"#555555\" stroke-width=\"4.305599999999999\" opacity=\"0.6\" d=\"M 535.0,156.0 L 535.0,193.0 L 563.0,193.0 L 563.0,156.0 L 535.0,156.0 z\" /><path fill-rule=\"evenodd\" fill=\"#66cc99\" stroke=\"#555555\" stroke-width=\"4.305599999999999\" opacity=\"0.6\" d=\"M 435.0,165.0 L 435.0,310.0 L 489.0,310.0 L 489.0,275.0 L 598.0,275.0 L 598.0,239.0 L 489.0,239.0 L 489.0,165.0 L 435.0,165.0 z\" /><path fill-rule=\"evenodd\" fill=\"#66cc99\" stroke=\"#555555\" stroke-width=\"4.305599999999999\" opacity=\"0.6\" d=\"M 111.0,90.0 L 111.0,119.0 L 148.0,119.0 L 148.0,192.0 L 102.0,192.0 L 102.0,293.0 L 230.0,293.0 L 230.0,193.0 L 175.0,193.0 L 175.0,119.0 L 258.0,119.0 L 258.0,155.0 L 285.0,155.0 L 285.0,119.0 L 405.0,119.0 L 405.0,90.0 L 285.0,90.0 L 285.0,73.0 L 258.0,73.0 L 258.0,90.0 L 111.0,90.0 z\" /><path fill-rule=\"evenodd\" fill=\"#66cc99\" stroke=\"#555555\" stroke-width=\"4.305599999999999\" opacity=\"0.6\" d=\"M 0.0,165.0 L 0.0,320.0 L 38.0,320.0 L 38.0,165.0 L 0.0,165.0 z\" /><path fill-rule=\"evenodd\" fill=\"#66cc99\" stroke=\"#555555\" stroke-width=\"4.305599999999999\" opacity=\"0.6\" d=\"M 268.0,304.0 L 268.0,340.0 L 294.0,340.0 L 294.0,304.0 L 268.0,304.0 z\" /><path fill-rule=\"evenodd\" fill=\"#66cc99\" stroke=\"#555555\" stroke-width=\"4.305599999999999\" opacity=\"0.6\" d=\"M 323.0,174.0 L 323.0,378.0 L 176.0,378.0 L 176.0,404.0 L 323.0,404.0 L 323.0,560.0 L 351.0,560.0 L 351.0,404.0 L 545.0,404.0 L 545.0,378.0 L 351.0,378.0 L 351.0,174.0 L 323.0,174.0 z\" /></g></g></svg>"
      ],
      "text/plain": [
       "<shapely.geometry.multipolygon.MultiPolygon at 0x7f29f64f5eb8>"
      ]
     },
     "execution_count": 14,
     "metadata": {},
     "output_type": "execute_result"
    }
   ],
   "source": []
  },
  {
   "cell_type": "code",
   "execution_count": 8,
   "metadata": {},
   "outputs": [],
   "source": [
    "shapes = [Polygon(tmp) for tmp in path.to_polygons()]\n",
    "steps = 10\n",
    "\n",
    "def check_collision(start, end):\n",
    "    x1, y1, a1 = start\n",
    "    x2, y2, a2 = end\n",
    "    \n",
    "    delx, dely, dela = (x2-x1)/steps, (y2-y1)/steps, (a2-a1)/steps\n",
    "    poly3 = cascaded_union([Polygon(gen_rect_pts(x1+delx*i, y1+dely*i, a1+dela*i)) for i in range(steps)])\n",
    "    for shape in shapes:\n",
    "        if shape.intersects(poly3): return True, poly3\n",
    "    return False, poly3"
   ]
  },
  {
   "cell_type": "code",
   "execution_count": 15,
   "metadata": {},
   "outputs": [
    {
     "ename": "KeyboardInterrupt",
     "evalue": "",
     "output_type": "error",
     "traceback": [
      "\u001b[0;31m---------------------------------------------------------------------------\u001b[0m",
      "\u001b[0;31mKeyboardInterrupt\u001b[0m                         Traceback (most recent call last)",
      "\u001b[0;32m<ipython-input-15-dab9b617bd06>\u001b[0m in \u001b[0;36m<module>\u001b[0;34m\u001b[0m\n\u001b[1;32m     37\u001b[0m     \u001b[0;32mfor\u001b[0m \u001b[0mi\u001b[0m \u001b[0;32min\u001b[0m \u001b[0mrange\u001b[0m\u001b[0;34m(\u001b[0m\u001b[0;36m10\u001b[0m\u001b[0;34m)\u001b[0m\u001b[0;34m:\u001b[0m\u001b[0;34m\u001b[0m\u001b[0m\n\u001b[1;32m     38\u001b[0m         \u001b[0malpha_new\u001b[0m \u001b[0;34m=\u001b[0m \u001b[0;34m(\u001b[0m\u001b[0mnp\u001b[0m\u001b[0;34m.\u001b[0m\u001b[0mrandom\u001b[0m\u001b[0;34m.\u001b[0m\u001b[0mrandom\u001b[0m\u001b[0;34m(\u001b[0m\u001b[0;34m)\u001b[0m \u001b[0;34m*\u001b[0m \u001b[0mmath\u001b[0m\u001b[0;34m.\u001b[0m\u001b[0mpi\u001b[0m\u001b[0;34m/\u001b[0m\u001b[0;36m4\u001b[0m\u001b[0;34m+\u001b[0m\u001b[0mq_near\u001b[0m\u001b[0;34m.\u001b[0m\u001b[0malpha\u001b[0m\u001b[0;34m)\u001b[0m\u001b[0;34m-\u001b[0m\u001b[0mmath\u001b[0m\u001b[0;34m.\u001b[0m\u001b[0mpi\u001b[0m\u001b[0;34m/\u001b[0m\u001b[0;36m8\u001b[0m\u001b[0;34m\u001b[0m\u001b[0m\n\u001b[0;32m---> 39\u001b[0;31m         \u001b[0mcollides\u001b[0m\u001b[0;34m,\u001b[0m \u001b[0mpoly3\u001b[0m \u001b[0;34m=\u001b[0m \u001b[0mcheck_collision\u001b[0m\u001b[0;34m(\u001b[0m\u001b[0;34m(\u001b[0m\u001b[0;34m*\u001b[0m\u001b[0mq_near\u001b[0m\u001b[0;34m.\u001b[0m\u001b[0mnode\u001b[0m\u001b[0;34m,\u001b[0m \u001b[0mq_near\u001b[0m\u001b[0;34m.\u001b[0m\u001b[0malpha\u001b[0m\u001b[0;34m)\u001b[0m\u001b[0;34m,\u001b[0m \u001b[0;34m(\u001b[0m\u001b[0;34m*\u001b[0m\u001b[0mq_next\u001b[0m\u001b[0;34m,\u001b[0m \u001b[0malpha_new\u001b[0m\u001b[0;34m)\u001b[0m\u001b[0;34m)\u001b[0m\u001b[0;34m\u001b[0m\u001b[0m\n\u001b[0m\u001b[1;32m     40\u001b[0m         \u001b[0;32mif\u001b[0m \u001b[0;32mnot\u001b[0m \u001b[0mcollides\u001b[0m\u001b[0;34m:\u001b[0m \u001b[0;32mbreak\u001b[0m\u001b[0;34m\u001b[0m\u001b[0m\n\u001b[1;32m     41\u001b[0m     \u001b[0;32melse\u001b[0m\u001b[0;34m:\u001b[0m \u001b[0;32mcontinue\u001b[0m\u001b[0;34m\u001b[0m\u001b[0m\n",
      "\u001b[0;32m<ipython-input-8-a2771357e53c>\u001b[0m in \u001b[0;36mcheck_collision\u001b[0;34m(start, end)\u001b[0m\n\u001b[1;32m      7\u001b[0m \u001b[0;34m\u001b[0m\u001b[0m\n\u001b[1;32m      8\u001b[0m     \u001b[0mdelx\u001b[0m\u001b[0;34m,\u001b[0m \u001b[0mdely\u001b[0m\u001b[0;34m,\u001b[0m \u001b[0mdela\u001b[0m \u001b[0;34m=\u001b[0m \u001b[0;34m(\u001b[0m\u001b[0mx2\u001b[0m\u001b[0;34m-\u001b[0m\u001b[0mx1\u001b[0m\u001b[0;34m)\u001b[0m\u001b[0;34m/\u001b[0m\u001b[0msteps\u001b[0m\u001b[0;34m,\u001b[0m \u001b[0;34m(\u001b[0m\u001b[0my2\u001b[0m\u001b[0;34m-\u001b[0m\u001b[0my1\u001b[0m\u001b[0;34m)\u001b[0m\u001b[0;34m/\u001b[0m\u001b[0msteps\u001b[0m\u001b[0;34m,\u001b[0m \u001b[0;34m(\u001b[0m\u001b[0ma2\u001b[0m\u001b[0;34m-\u001b[0m\u001b[0ma1\u001b[0m\u001b[0;34m)\u001b[0m\u001b[0;34m/\u001b[0m\u001b[0msteps\u001b[0m\u001b[0;34m\u001b[0m\u001b[0m\n\u001b[0;32m----> 9\u001b[0;31m     \u001b[0mpoly3\u001b[0m \u001b[0;34m=\u001b[0m \u001b[0mcascaded_union\u001b[0m\u001b[0;34m(\u001b[0m\u001b[0;34m[\u001b[0m\u001b[0mPolygon\u001b[0m\u001b[0;34m(\u001b[0m\u001b[0mgen_rect_pts\u001b[0m\u001b[0;34m(\u001b[0m\u001b[0mx1\u001b[0m\u001b[0;34m+\u001b[0m\u001b[0mdelx\u001b[0m\u001b[0;34m*\u001b[0m\u001b[0mi\u001b[0m\u001b[0;34m,\u001b[0m \u001b[0my1\u001b[0m\u001b[0;34m+\u001b[0m\u001b[0mdely\u001b[0m\u001b[0;34m*\u001b[0m\u001b[0mi\u001b[0m\u001b[0;34m,\u001b[0m \u001b[0ma1\u001b[0m\u001b[0;34m+\u001b[0m\u001b[0mdela\u001b[0m\u001b[0;34m*\u001b[0m\u001b[0mi\u001b[0m\u001b[0;34m)\u001b[0m\u001b[0;34m)\u001b[0m \u001b[0;32mfor\u001b[0m \u001b[0mi\u001b[0m \u001b[0;32min\u001b[0m \u001b[0mrange\u001b[0m\u001b[0;34m(\u001b[0m\u001b[0msteps\u001b[0m\u001b[0;34m)\u001b[0m\u001b[0;34m]\u001b[0m\u001b[0;34m)\u001b[0m\u001b[0;34m\u001b[0m\u001b[0m\n\u001b[0m\u001b[1;32m     10\u001b[0m     \u001b[0;32mfor\u001b[0m \u001b[0mshape\u001b[0m \u001b[0;32min\u001b[0m \u001b[0mshapes\u001b[0m\u001b[0;34m:\u001b[0m\u001b[0;34m\u001b[0m\u001b[0m\n\u001b[1;32m     11\u001b[0m         \u001b[0;32mif\u001b[0m \u001b[0mshape\u001b[0m\u001b[0;34m.\u001b[0m\u001b[0mintersects\u001b[0m\u001b[0;34m(\u001b[0m\u001b[0mpoly3\u001b[0m\u001b[0;34m)\u001b[0m\u001b[0;34m:\u001b[0m \u001b[0;32mreturn\u001b[0m \u001b[0;32mTrue\u001b[0m\u001b[0;34m,\u001b[0m \u001b[0mpoly3\u001b[0m\u001b[0;34m\u001b[0m\u001b[0m\n",
      "\u001b[0;32m~/miniconda3/lib/python3.6/site-packages/shapely/ops.py\u001b[0m in \u001b[0;36mcascaded_union\u001b[0;34m(self, geoms)\u001b[0m\n\u001b[1;32m    129\u001b[0m             \u001b[0msubs\u001b[0m\u001b[0;34m[\u001b[0m\u001b[0mi\u001b[0m\u001b[0;34m]\u001b[0m \u001b[0;34m=\u001b[0m \u001b[0mg\u001b[0m\u001b[0;34m.\u001b[0m\u001b[0m_geom\u001b[0m\u001b[0;34m\u001b[0m\u001b[0m\n\u001b[1;32m    130\u001b[0m         \u001b[0mcollection\u001b[0m \u001b[0;34m=\u001b[0m \u001b[0mlgeos\u001b[0m\u001b[0;34m.\u001b[0m\u001b[0mGEOSGeom_createCollection\u001b[0m\u001b[0;34m(\u001b[0m\u001b[0;36m6\u001b[0m\u001b[0;34m,\u001b[0m \u001b[0msubs\u001b[0m\u001b[0;34m,\u001b[0m \u001b[0mL\u001b[0m\u001b[0;34m)\u001b[0m\u001b[0;34m\u001b[0m\u001b[0m\n\u001b[0;32m--> 131\u001b[0;31m         \u001b[0;32mreturn\u001b[0m \u001b[0mgeom_factory\u001b[0m\u001b[0;34m(\u001b[0m\u001b[0mlgeos\u001b[0m\u001b[0;34m.\u001b[0m\u001b[0mmethods\u001b[0m\u001b[0;34m[\u001b[0m\u001b[0;34m'cascaded_union'\u001b[0m\u001b[0;34m]\u001b[0m\u001b[0;34m(\u001b[0m\u001b[0mcollection\u001b[0m\u001b[0;34m)\u001b[0m\u001b[0;34m)\u001b[0m\u001b[0;34m\u001b[0m\u001b[0m\n\u001b[0m\u001b[1;32m    132\u001b[0m \u001b[0;34m\u001b[0m\u001b[0m\n\u001b[1;32m    133\u001b[0m     \u001b[0;32mdef\u001b[0m \u001b[0munary_union\u001b[0m\u001b[0;34m(\u001b[0m\u001b[0mself\u001b[0m\u001b[0;34m,\u001b[0m \u001b[0mgeoms\u001b[0m\u001b[0;34m)\u001b[0m\u001b[0;34m:\u001b[0m\u001b[0;34m\u001b[0m\u001b[0m\n",
      "\u001b[0;31mKeyboardInterrupt\u001b[0m: "
     ]
    },
    {
     "data": {
      "image/png": "[encoded data removed]",
      "text/plain": [
       "<matplotlib.figure.Figure at 0x7f29f666b748>"
      ]
     },
     "metadata": {
      "needs_background": "light"
     },
     "output_type": "display_data"
    }
   ],
   "source": [
    "# obstacle_path, goal_path = \"../hw3/world_obstacles.txt\", \"../hw3/goal.txt\"\n",
    "obstacle_path, goal_path = \"world_obstacles.txt\", \"start_goal.txt\"\n",
    "\n",
    "step_size   = 50\n",
    "path        = get_obstacle_course(obstacle_path)\n",
    "start, goal = (75, 50, 0), (482,577,math.pi/2)\n",
    "obstacles   = Obstacles(path.to_polygons())\n",
    "end         = np.array(goal)\n",
    "\n",
    "fig, ax = plt.subplots()\n",
    "draw_obstacle_course(path, ax)\n",
    "draw_start_and_goal(ax=ax, goal=goal, start=start)\n",
    "\n",
    "minp, maxp  = path.vertices.min(0), path.vertices.max(0)\n",
    "span        = maxp - minp\n",
    "\n",
    "KD = KDTree2.KDTree(start[:2], 0)\n",
    "ax.add_patch(PolygonPatch(Polygon(gen_rect_pts(*start)), color='red'))\n",
    "\n",
    "near_count = 0\n",
    "count = 0\n",
    "while KD.length < 100:\n",
    "    count += 1\n",
    "    # Select a random point q_rand \\in Q_free\n",
    "    q_rand = gen_valid_rand(obstacles.point_is_valid) if np.random.randint(0, 100)>5 else end\n",
    "\n",
    "    # Find the nearest node and distance to it\n",
    "    q_near, dist = KD.nearestNode(q_rand)\n",
    "    \n",
    "    # Generate the next node in the direction of q_rand\n",
    "    if dist < step_size: q_next = tuple(q_rand)\n",
    "    else:\n",
    "        q_next = gen_next(tuple(q_near.node), q_rand, step_size)\n",
    "        if not obstacles.point_is_valid(*q_next): continue\n",
    "    \n",
    "    # Check validity and update tree\n",
    "    for i in range(10):\n",
    "        alpha_new = (np.random.random() * math.pi/4+q_near.alpha)-math.pi/8\n",
    "        collides, poly3 = check_collision((*q_near.node, q_near.alpha), (*q_next, alpha_new))\n",
    "        if not collides: break\n",
    "    else: continue\n",
    "    \n",
    "    KD.addNode(q_next, alpha_new)\n",
    "    ax.add_patch(PolygonPatch(poly3))\n",
    "\n",
    "    if math.hypot(q_next[0]-goal[0], q_next[1]-goal[1]) < step_size and \\\n",
    "        not check_collision((*q_next, alpha_new), goal):\n",
    "        break\n",
    "\n",
    "print(\"n =\", KD.length)"
   ]
  }
 ],
 "metadata": {
  "kernelspec": {
   "display_name": "Python 3",
   "language": "python",
   "name": "python3"
  },
  "language_info": {
   "codemirror_mode": {
    "name": "ipython",
    "version": 3
   },
   "file_extension": ".py",
   "mimetype": "text/x-python",
   "name": "python",
   "nbconvert_exporter": "python",
   "pygments_lexer": "ipython3",
   "version": "3.6.6"
  },
  "toc": {
   "base_numbering": 1,
   "nav_menu": {},
   "number_sections": true,
   "sideBar": true,
   "skip_h1_title": false,
   "title_cell": "Table of Contents",
   "title_sidebar": "Contents",
   "toc_cell": false,
   "toc_position": {},
   "toc_section_display": true,
   "toc_window_display": true
  }
 },
 "nbformat": 4,
 "nbformat_minor": 2
}
